{
 "cells": [
  {
   "cell_type": "markdown",
   "metadata": {},
   "source": [
    "# Градиентный спуск для минимизации линейной регрессии\n",
    "Будем рассматривать случай парной регрессии, то есть моделью будет являться $a(x) = w_1 \\cdot x + w_0$, где x - это единственный признак."
   ]
  },
  {
   "cell_type": "markdown",
   "metadata": {},
   "source": [
    "Для начала сгенерируем случайную выборку."
   ]
  },
  {
   "cell_type": "code",
   "execution_count": 311,
   "metadata": {},
   "outputs": [
    {
     "name": "stdout",
     "output_type": "stream",
     "text": [
      "tensor([[0.1188, 0.9286],\n",
      "        [0.5047, 0.9006],\n",
      "        [0.3612, 0.5283],\n",
      "        [0.2612, 0.5227],\n",
      "        [0.3587, 0.7516],\n",
      "        [0.7769, 0.8460],\n",
      "        [0.1587, 0.8473],\n",
      "        [0.5381, 0.1085],\n",
      "        [0.2418, 0.0889],\n",
      "        [0.1968, 0.3482],\n",
      "        [0.8098, 0.0803],\n",
      "        [0.6916, 0.6033],\n",
      "        [0.7033, 0.9507],\n",
      "        [0.8696, 0.1349],\n",
      "        [0.8736, 0.5541],\n",
      "        [0.7198, 0.3086],\n",
      "        [0.7436, 0.5641],\n",
      "        [0.5905, 0.4592],\n",
      "        [0.3978, 0.3041],\n",
      "        [0.7075, 0.1043],\n",
      "        [0.1345, 0.2760],\n",
      "        [0.4937, 0.1910],\n",
      "        [0.5310, 0.9920],\n",
      "        [0.7387, 0.4192],\n",
      "        [0.2681, 0.4354],\n",
      "        [0.8676, 0.1359],\n",
      "        [0.9960, 0.8961],\n",
      "        [0.1550, 0.1343],\n",
      "        [0.3354, 0.7186],\n",
      "        [0.3556, 0.6279],\n",
      "        [0.1193, 0.6331],\n",
      "        [0.4337, 0.9715],\n",
      "        [0.7322, 0.2243],\n",
      "        [0.6130, 0.1154],\n",
      "        [0.2839, 0.3832],\n",
      "        [0.6131, 0.0141],\n",
      "        [0.1785, 0.6708],\n",
      "        [0.4967, 0.1852],\n",
      "        [0.7494, 0.8317],\n",
      "        [0.1606, 0.0692],\n",
      "        [0.2323, 0.5743],\n",
      "        [0.6050, 0.9528],\n",
      "        [0.4571, 0.0174],\n",
      "        [0.2099, 0.6424],\n",
      "        [0.8106, 0.9973],\n",
      "        [0.5622, 0.8067],\n",
      "        [0.4186, 0.7918],\n",
      "        [0.0099, 0.9649],\n",
      "        [0.8707, 0.7640],\n",
      "        [0.4547, 0.1822]])\n"
     ]
    }
   ],
   "source": [
    "import torch\n",
    "\n",
    "count = 50\n",
    "x = torch.rand(count, 2)\n",
    "\n",
    "k = 0.1\n",
    "iterations = 1\n",
    "\n",
    "print(x)"
   ]
  },
  {
   "cell_type": "markdown",
   "metadata": {},
   "source": [
    "В качестве функции потерь будем использовать функционал усредненной квадратичной разности."
   ]
  },
  {
   "cell_type": "code",
   "execution_count": 312,
   "metadata": {},
   "outputs": [],
   "source": [
    "from torch.autograd import Variable\n",
    "\n",
    "def getQ(w, count, x):\n",
    "    Q = 0\n",
    "    for i in range(count):\n",
    "        Q += (w[0][1] * x[i][0] + w[0][0] - x[i][1]) ** 2\n",
    "    Q *= (1 / count)\n",
    "    return Q\n",
    "\n",
    "w = Variable(torch.ones(1, 2), requires_grad=True)\n",
    "\n",
    "Q = getQ(w, count, x)\n",
    "Q.backward(retain_graph=True)"
   ]
  },
  {
   "cell_type": "code",
   "execution_count": 313,
   "metadata": {},
   "outputs": [],
   "source": [
    "import matplotlib.pyplot as plt\n",
    "\n",
    "def show_line(w, x):\n",
    "    x_axis = []\n",
    "    y_axis = []\n",
    "    \n",
    "    plt.xlabel('Значение параметра')\n",
    "    plt.ylabel('Значение величины')\n",
    "\n",
    "    for i in range(count):\n",
    "        x_axis += [x[i][0]]\n",
    "        y_axis += [x[i][1]]\n",
    "    plt.plot(x_axis, y_axis, 'ro')\n",
    "    plt.axis([-1, 1, -1, 1])\n",
    "\n",
    "    plt.plot([-1, 1], [w[0][1] * -1 + w[0][0], w[0][1] * 1 + w[0][0]])\n",
    "    plt.show()"
   ]
  },
  {
   "cell_type": "code",
   "execution_count": 314,
   "metadata": {},
   "outputs": [
    {
     "data": {
      "image/png": "[encoded data removed]",
      "text/plain": [
       "<Figure size 432x288 with 1 Axes>"
      ]
     },
     "metadata": {},
     "output_type": "display_data"
    }
   ],
   "source": [
    "show_line(w, x)"
   ]
  },
  {
   "cell_type": "markdown",
   "metadata": {},
   "source": [
    "Произведем серию из $10000$ итераций градиентного спуска."
   ]
  },
  {
   "cell_type": "code",
   "execution_count": 315,
   "metadata": {},
   "outputs": [],
   "source": [
    "for i in range(10000):\n",
    "    w.data -= w.grad * (k / iterations)\n",
    "    iterations += 1\n",
    "\n",
    "    Q = getQ(w, count, x)\n",
    "    Q.backward(retain_graph=True)"
   ]
  },
  {
   "cell_type": "code",
   "execution_count": 316,
   "metadata": {
    "scrolled": true
   },
   "outputs": [
    {
     "data": {
      "image/png": "[encoded data removed]",
      "text/plain": [
       "<Figure size 432x288 with 1 Axes>"
      ]
     },
     "metadata": {},
     "output_type": "display_data"
    }
   ],
   "source": [
    "show_line(w, x)"
   ]
  }
 ],
 "metadata": {
  "kernelspec": {
   "display_name": "Python 3",
   "language": "python",
   "name": "python3"
  },
  "language_info": {
   "codemirror_mode": {
    "name": "ipython",
    "version": 3
   },
   "file_extension": ".py",
   "mimetype": "text/x-python",
   "name": "python",
   "nbconvert_exporter": "python",
   "pygments_lexer": "ipython3",
   "version": "3.7.3"
  }
 },
 "nbformat": 4,
 "nbformat_minor": 2
}
